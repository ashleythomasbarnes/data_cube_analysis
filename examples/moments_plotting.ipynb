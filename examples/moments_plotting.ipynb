{
 "cells": [
  {
   "cell_type": "code",
   "execution_count": 1,
   "metadata": {},
   "outputs": [
    {
     "name": "stderr",
     "output_type": "stream",
     "text": [
      "WARNING: AstropyDeprecationWarning: astropy.extern.six will be removed in 4.0, use the six module directly if it is still needed [astropy.extern.six]\n",
      "/anaconda3/lib/python3.7/site-packages/aplpy/core.py:14: MatplotlibDeprecationWarning: \n",
      "The mpl_toolkits.axes_grid module was deprecated in Matplotlib 2.1 and will be removed two minor releases later. Use mpl_toolkits.axes_grid1 and mpl_toolkits.axisartist, which provide the same functionality instead.\n",
      "  import mpl_toolkits.axes_grid.parasite_axes as mpltk\n"
     ]
    }
   ],
   "source": [
    "####\n",
    "import sys\n",
    "sys.path.append('./../')\n",
    "\n",
    "import moments\n",
    "import aplpy\n",
    "import matplotlib.pyplot as plt\n",
    "\n",
    "#CAREFUL!\n",
    "import warnings\n",
    "warnings.filterwarnings('ignore')"
   ]
  },
  {
   "cell_type": "code",
   "execution_count": 3,
   "metadata": {},
   "outputs": [],
   "source": [
    "inputfile = './cube.fits'\n",
    "\n",
    "rms_velo = [[-150, -100],[100, 150]]\n",
    "mom_velo = [-20, 100]"
   ]
  },
  {
   "cell_type": "code",
   "execution_count": null,
   "metadata": {},
   "outputs": [
    {
     "name": "stdout",
     "output_type": "stream",
     "text": [
      "[INFO] Creating mom9 and velo_complexity - make take a while.\n"
     ]
    }
   ],
   "source": [
    "# MAKE MOM maps and ERR\n",
    "cube = moments.get_cube(inputfile)\n",
    "rms = moments.get_rms(cube, rms_velo)\n",
    "mask, _ = moments.get_threshmask(cube, rms.data, thresh=5)\n",
    "\n",
    "rms = moments.get_rms(cube, rms_velo)\n",
    "cube_masked = cube.with_mask(mask)\n",
    "\n",
    "mom = moments.get_momentmaps(cube_masked, mom_velocity=mom_velo)\n",
    "nchan = moments.get_nchan(mask)\n",
    "mom0err = moments.get_mom0err(nchan, rms, cube.header['CDELT3'])"
   ]
  },
  {
   "cell_type": "code",
   "execution_count": null,
   "metadata": {},
   "outputs": [],
   "source": [
    "# WRITE MOM maps and ERR\n",
    "rms.writeto('rms.fits', overwrite=True)\n",
    "mom0err.writeto('mom0err.fits', overwrite=True)\n",
    "mom['mom0'].write('mom0.fits', overwrite=True)"
   ]
  },
  {
   "cell_type": "code",
   "execution_count": null,
   "metadata": {},
   "outputs": [],
   "source": [
    "fig = plt.figure(figsize=(5,5))\n",
    "ax = aplpy.FITSFigure(rms, figure=fig)\n",
    "ax.show_colorscale()\n",
    "ax.add_colorbar()\n",
    "ax.colorbar.set_axis_label_text('rms (K)')\n",
    "fig.savefig('rms.pdf', dpi=200, bbox_inches='tight')"
   ]
  },
  {
   "cell_type": "code",
   "execution_count": null,
   "metadata": {},
   "outputs": [],
   "source": [
    "fig = plt.figure(figsize=(5,5))\n",
    "ax = aplpy.FITSFigure(mom['mom0'].hdu, figure=fig)\n",
    "ax.show_colorscale()\n",
    "ax.add_colorbar()\n",
    "ax.colorbar.set_axis_label_text(r'mom0 (K kms$^{-1}$)')\n",
    "fig.savefig('mom0.pdf', dpi=200, bbox_inches='tight')"
   ]
  },
  {
   "cell_type": "code",
   "execution_count": null,
   "metadata": {},
   "outputs": [],
   "source": [
    "fig = plt.figure(figsize=(5,5))\n",
    "ax = aplpy.FITSFigure(mom['max'].hdu, figure=fig)\n",
    "ax.show_colorscale()\n",
    "ax.add_colorbar()\n",
    "ax.colorbar.set_axis_label_text(r'max (K)')\n",
    "fig.savefig('max.pdf', dpi=200, bbox_inches='tight')"
   ]
  },
  {
   "cell_type": "code",
   "execution_count": null,
   "metadata": {},
   "outputs": [],
   "source": [
    "fig = plt.figure(figsize=(5,5))\n",
    "ax = aplpy.FITSFigure(mom0err, figure=fig)\n",
    "ax.show_colorscale()\n",
    "ax.add_colorbar()\n",
    "ax.colorbar.set_axis_label_text('mom0err (K kms$^{-1}$)')\n",
    "fig.savefig('mom0err.pdf', dpi=200, bbox_inches='tight')"
   ]
  },
  {
   "cell_type": "code",
   "execution_count": null,
   "metadata": {},
   "outputs": [],
   "source": []
  }
 ],
 "metadata": {
  "kernelspec": {
   "display_name": "Python 3",
   "language": "python",
   "name": "python3"
  },
  "language_info": {
   "codemirror_mode": {
    "name": "ipython",
    "version": 3
   },
   "file_extension": ".py",
   "mimetype": "text/x-python",
   "name": "python",
   "nbconvert_exporter": "python",
   "pygments_lexer": "ipython3",
   "version": "3.7.2"
  }
 },
 "nbformat": 4,
 "nbformat_minor": 2
}
